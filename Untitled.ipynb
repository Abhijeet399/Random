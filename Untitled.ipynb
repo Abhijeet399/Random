{
 "cells": [
  {
   "cell_type": "code",
   "execution_count": 1,
   "id": "89115b82",
   "metadata": {},
   "outputs": [],
   "source": [
    "import pandas as pd\n",
    "import numpy as np\n",
    "import networkx as nx\n",
    "from tqdm import tqdm\n",
    "from scipy.stats import fisher_exact\n",
    "from statsmodels.stats.multitest import multipletests\n",
    "import itertools"
   ]
  },
  {
   "cell_type": "code",
   "execution_count": 2,
   "id": "a9ab6d2c",
   "metadata": {},
   "outputs": [],
   "source": [
    "def load_network(file_path):\n",
    "    \"\"\"Load a tab-separated network file with protein-protein interactions\"\"\"\n",
    "    network = pd.read_csv(file_path, sep='\\t', header=None, names=['protein1', 'protein2'])\n",
    "    return network"
   ]
  },
  {
   "cell_type": "code",
   "execution_count": 3,
   "id": "12d61950",
   "metadata": {},
   "outputs": [],
   "source": [
    "def create_graph(network):\n",
    "    \"\"\"Create a NetworkX graph from the network dataframe\"\"\"\n",
    "    G = nx.from_pandas_edgelist(network, 'protein1', 'protein2')\n",
    "    return G"
   ]
  },
  {
   "cell_type": "code",
   "execution_count": 4,
   "id": "583f1e12",
   "metadata": {},
   "outputs": [],
   "source": [
    "def gene_enrichment_analysis(G, min_interactions=1, max_gene_pairs=None):\n",
    "    \"\"\"\n",
    "    Perform gene enrichment analysis to identify significant associations among genes\n",
    "    \n",
    "    Parameters:\n",
    "    -----------\n",
    "    G : NetworkX graph\n",
    "        Graph representing gene/protein interactions\n",
    "    min_interactions : int\n",
    "        Minimum number of shared partners to consider\n",
    "    max_gene_pairs : int or None\n",
    "        Maximum number of gene pairs to analyze (for large networks)\n",
    "        \n",
    "    Returns:\n",
    "    --------\n",
    "    DataFrame with results of the analysis\n",
    "    \"\"\"\n",
    "    all_genes = list(G.nodes())\n",
    "    n_genes = len(all_genes)\n",
    "    \n",
    "    # Create a dictionary to store neighbors for each gene\n",
    "    neighbors_dict = {gene: set(G.neighbors(gene)) for gene in all_genes}\n",
    "    \n",
    "    # Prepare results storage\n",
    "    results = []\n",
    "    \n",
    "    # Consider all possible gene pairs (or a subset for large networks)\n",
    "    gene_pairs = list(itertools.combinations(all_genes, 2))\n",
    "    if max_gene_pairs and len(gene_pairs) > max_gene_pairs:\n",
    "        # Randomly sample gene pairs if there are too many\n",
    "        gene_pairs = np.random.choice(gene_pairs, max_gene_pairs, replace=False)\n",
    "    count = 1\n",
    "    # Process each gene pair\n",
    "    for gene1, gene2 in tqdm(gene_pairs, desc=\"Processing gene pairs\"):\n",
    "        # Get the neighbors for each gene (excluding the genes themselves)\n",
    "        neighbors1 = neighbors_dict[gene1]\n",
    "        neighbors2 = neighbors_dict[gene2]\n",
    "\n",
    "        # Skip if genes are direct neighbors\n",
    "        if gene2 in neighbors1 or gene1 in neighbors2:\n",
    "            continue\n",
    "\n",
    "        # Find shared interaction partners\n",
    "        shared_partners = neighbors1.intersection(neighbors2)\n",
    "        num_shared = len(shared_partners)\n",
    "\n",
    "        # Skip gene pairs with too few shared partners\n",
    "        if num_shared < min_interactions:\n",
    "            continue\n",
    "\n",
    "        # Create 2x2 contingency table for Fisher's Exact Test\n",
    "        a = num_shared\n",
    "        b = len(neighbors1) - a\n",
    "        c = len(neighbors2) - a\n",
    "        d = n_genes - a - b - c\n",
    "\n",
    "        # Perform Fisher's Exact Test\n",
    "        contingency_table = [[a, b], [c, d]]\n",
    "        _, p_value = fisher_exact(contingency_table)\n",
    "\n",
    "        # Store results\n",
    "        results.append({\n",
    "            'gene1': gene1,\n",
    "            'gene2': gene2,\n",
    "            'shared_partners': num_shared,\n",
    "            'shared_partners_list': ','.join(shared_partners),\n",
    "            'partners_gene1': len(neighbors1),\n",
    "            'partners_gene2': len(neighbors2),\n",
    "            'p_value': p_value\n",
    "        })\n",
    "\n",
    "        results_df = pd.DataFrame(results)\n",
    "\n",
    "    # Apply multiple testing correction (Benjamini-Hochberg method)\n",
    "    if not results_df.empty:\n",
    "        _, adjusted_p_values, _, _ = multipletests(results_df['p_value'], method='fdr_bh')\n",
    "        results_df['adjusted_p_value'] = adjusted_p_values\n",
    "        results_df['significant'] = results_df['adjusted_p_value'] < 0.05\n",
    "        \n",
    "        # Sort by adjusted p-value\n",
    "        results_df = results_df.sort_values('adjusted_p_value')\n",
    "    \n",
    "    return results_df"
   ]
  },
  {
   "cell_type": "code",
   "execution_count": 5,
   "id": "8403d62d",
   "metadata": {},
   "outputs": [],
   "source": [
    "def run_gene_enrichment_pipeline(network_file, output_file=None, min_interactions=1, max_gene_pairs=None):\n",
    "    \"\"\"\n",
    "    Run the complete gene enrichment analysis pipeline\n",
    "    \n",
    "    Parameters:\n",
    "    -----------\n",
    "    network_file : str\n",
    "        Path to the network file (tab-separated)\n",
    "    output_file : str or None\n",
    "        Path to save results (if None, results are not saved)\n",
    "    min_interactions : int\n",
    "        Minimum number of shared partners to consider\n",
    "    max_gene_pairs : int or None\n",
    "        Maximum number of gene pairs to analyze\n",
    "    \n",
    "    Returns:\n",
    "    --------\n",
    "    DataFrame with analysis results\n",
    "    \"\"\"\n",
    "    # Load data and create graph\n",
    "    print(\"Loading network data...\")\n",
    "    network = load_network(network_file)\n",
    "    print(f\"Network loaded: {len(network)} interactions\")\n",
    "    \n",
    "    print(\"Creating graph...\")\n",
    "    G = create_graph(network)\n",
    "    print(f\"Graph created with {len(G.nodes())} nodes and {len(G.edges())} edges\")\n",
    "    \n",
    "    # Perform enrichment analysis\n",
    "    print(\"Performing gene enrichment analysis...\")\n",
    "    results = gene_enrichment_analysis(G, min_interactions, max_gene_pairs)\n",
    "    print(f\"Analysis complete: found {len(results)} gene pairs with shared partners\")\n",
    "    \n",
    "    # Report significant findings\n",
    "    if not results.empty:\n",
    "        significant_pairs = results[results['significant']]\n",
    "        print(f\"Found {len(significant_pairs)} significantly enriched gene pairs (adjusted p < 0.05)\")\n",
    "    \n",
    "    # Save results if requested\n",
    "    if output_file and not results.empty:\n",
    "        results.to_csv(output_file, index=False)\n",
    "        print(f\"Results saved to {output_file}\")\n",
    "    \n",
    "    return results"
   ]
  },
  {
   "cell_type": "code",
   "execution_count": null,
   "id": "f50c6bbc",
   "metadata": {},
   "outputs": [
    {
     "name": "stdout",
     "output_type": "stream",
     "text": [
      "Loading network data...\n",
      "Network loaded: 621988 interactions\n",
      "Creating graph...\n",
      "Graph created with 11183 nodes and 621988 edges\n",
      "Performing gene enrichment analysis...\n"
     ]
    },
    {
     "name": "stderr",
     "output_type": "stream",
     "text": [
      "Processing gene pairs:   0%|                                              | 41587/62524153 [08:42<603:48:14, 28.74it/s]"
     ]
    }
   ],
   "source": [
    "network_file = \"C:/Users/bhatt/Desktop/Untitled Folder/GGNet.txt\"\n",
    "output_file = \"gene_enrichment_results.csv\"\n",
    "min_shared_partners = 2\n",
    "\n",
    "# Run the analysis\n",
    "results = run_gene_enrichment_pipeline(\n",
    "    network_file=network_file,\n",
    "    output_file=output_file,\n",
    "    min_interactions=min_shared_partners\n",
    ")"
   ]
  },
  {
   "cell_type": "code",
   "execution_count": null,
   "id": "a56443c9",
   "metadata": {},
   "outputs": [],
   "source": [
    "print(results)"
   ]
  },
  {
   "cell_type": "code",
   "execution_count": null,
   "id": "65b55161",
   "metadata": {},
   "outputs": [],
   "source": []
  }
 ],
 "metadata": {
  "kernelspec": {
   "display_name": "Python 3 (ipykernel)",
   "language": "python",
   "name": "python3"
  },
  "language_info": {
   "codemirror_mode": {
    "name": "ipython",
    "version": 3
   },
   "file_extension": ".py",
   "mimetype": "text/x-python",
   "name": "python",
   "nbconvert_exporter": "python",
   "pygments_lexer": "ipython3",
   "version": "3.8.19"
  }
 },
 "nbformat": 4,
 "nbformat_minor": 5
}
